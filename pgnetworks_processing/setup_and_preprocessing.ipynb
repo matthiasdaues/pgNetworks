{
 "cells": [
  {
   "cell_type": "markdown",
   "metadata": {},
   "source": [
    "#### load libraries and define db_connection "
   ]
  },
  {
   "cell_type": "code",
   "execution_count": null,
   "metadata": {},
   "outputs": [],
   "source": [
    "import os\n",
    "import json\n",
    "import time\n",
    "from datetime import datetime, timezone\n",
    "import psycopg2\n",
    "from psycopg2.extras import execute_values\n",
    "import aiosql\n",
    "import multiprocessing as mp\n",
    "from dotenv import load_dotenv\n",
    "from operator import itemgetter\n",
    "\n",
    "from pgnetworks_processing.python.utilities import Config, create_run_id\n",
    "from pgnetworks_processing.python import functions"
   ]
  },
  {
   "cell_type": "code",
   "execution_count": null,
   "metadata": {},
   "outputs": [],
   "source": [
    "# set run_id and initiate workstep_idx\n",
    "\n",
    "run_id = create_run_id()\n",
    "workstep_idx = 0\n",
    "\n",
    "print(run_id)"
   ]
  },
  {
   "cell_type": "markdown",
   "metadata": {},
   "source": [
    "#### tear down and set stuff up"
   ]
  },
  {
   "cell_type": "code",
   "execution_count": null,
   "metadata": {},
   "outputs": [],
   "source": [
    "# tear stuff down and set it up fresh\n",
    "\n",
    "with psycopg2.connect(Config.connect_db) as conn:\n",
    "    try:\n",
    "#       # drop assets\n",
    "        # Config.queries.ddl.drop_table_junctioned_edges(conn)\n",
    "        # Config.queries.ddl.drop_table_segments(conn)\n",
    "        # Config.queries.ddl.drop_type_segment_processing(conn)\n",
    "        # Config.queries.ddl.drop_table_nodes(conn)\n",
    "        # Config.queries.ddl.drop_type_edge_processing(conn)\n",
    "        # Config.queries.ddl.drop_type_edge_processing_2(conn)\n",
    "        # Config.queries.ddl.drop_table_selector_grid(conn)\n",
    "#       # Config.queries.ddl.drop_table_log(conn)\n",
    "\n",
    "#       # drop assets\n",
    "#       # Config.queries.dml.drop_function_public_ghh_decode_id_to_wkt(conn)\n",
    "#       # Config.queries.dml.drop_function_public_ghh_encode_xy_to_id(conn)\n",
    "        Config.queries.dml.drop_procedure_join_vertex_2_edge(conn)\n",
    "        Config.queries.dml.drop_procedure_process_junctions_and_edges(conn)\n",
    "        Config.queries.dml.drop_procedure_calculate_selector_grid(conn)\n",
    "        Config.queries.dml.drop_procedure_segmentize_road_network(conn)\n",
    "        Config.queries.dml.drop_procedure_count_node_degree(conn)\n",
    "        \n",
    "#       # rebuild assets\n",
    "        # Config.queries.ddl.create_table_vertex_2_edge(conn)\n",
    "        # Config.queries.ddl.create_table_junctioned_edges(conn)\n",
    "        # Config.queries.ddl.create_type_segment_processing(conn)\n",
    "        # Config.queries.ddl.create_table_segments(conn)\n",
    "        # Config.queries.ddl.create_table_nodes(conn)\n",
    "        # Config.queries.ddl.create_type_edge_processing(conn)\n",
    "        # Config.queries.ddl.create_type_edge_processing_2(conn)\n",
    "        # Config.queries.ddl.create_table_selector_grid(conn)\n",
    "#       # Config.queries.ddl.create_table_log(conn)\n",
    "        \n",
    "#       # create and replace assets\n",
    "        Config.queries.dml.create_procedure_join_vertex_2_edge(conn)\n",
    "        Config.queries.dml.create_procedure_process_junctions_and_edges(conn)\n",
    "        Config.queries.dml.create_procedure_calculate_selector_grid(conn)\n",
    "        Config.queries.dml.create_procedure_segmentize_road_network(conn)\n",
    "        Config.queries.dml.create_procedure_count_node_degree(conn)\n",
    "        \n",
    "        conn.commit()\n",
    "    \n",
    "    except psycopg2.Error as e:\n",
    "        print(e)"
   ]
  },
  {
   "cell_type": "markdown",
   "metadata": {},
   "source": [
    "#### download sources and copy data to DB"
   ]
  },
  {
   "cell_type": "code",
   "execution_count": null,
   "metadata": {},
   "outputs": [],
   "source": []
  },
  {
   "cell_type": "markdown",
   "metadata": {},
   "source": [
    "#### preprocess data in the DB"
   ]
  },
  {
   "cell_type": "markdown",
   "metadata": {},
   "source": [
    "##### *perform processing*"
   ]
  },
  {
   "cell_type": "code",
   "execution_count": null,
   "metadata": {},
   "outputs": [],
   "source": [
    "# set lower and upper bounds for the \"join_vertex_2_edge\" procedure\n",
    "\n",
    "from pgnetworks_processing.python import functions\n",
    "\n",
    "chunk_bound_query_name = 'find_bounds_in_poi_table'\n",
    "workstep_query_name = 'join_vertex_2_edge'\n",
    "chunk_size = 100000\n",
    "workstep_idx += 1\n",
    "params_list = functions.create_range_bound_params_list(chunk_bound_query_name, workstep_query_name, chunk_size, workstep_idx, run_id)\n",
    "# params_list = params_list[:6]\n",
    "# params_list"
   ]
  },
  {
   "cell_type": "code",
   "execution_count": null,
   "metadata": {},
   "outputs": [],
   "source": [
    "# join the vertices to the closest edge\n",
    "\n",
    "workstep_idx += 1\n",
    "functions.multiprocess_id_range_workstep(params_list, workstep_query_name, workstep_idx, run_id)"
   ]
  },
  {
   "cell_type": "code",
   "execution_count": null,
   "metadata": {},
   "outputs": [],
   "source": [
    "# index the table vertex_2_edge for the next bound search run\n",
    "\n",
    "workstep_idx += 1\n",
    "functions.create_index('create_index_vertex_2_edge_edge_id_idx', workstep_idx, run_id)"
   ]
  },
  {
   "cell_type": "code",
   "execution_count": null,
   "metadata": {},
   "outputs": [],
   "source": [
    "# find the bounds for the \"process junctions and edges\" procedure\n",
    "\n",
    "from pgnetworks_processing.python import functions\n",
    "\n",
    "chunk_bound_query_name = 'find_bounds_in_vertex_2_edge'\n",
    "workstep_query_name = 'process_junctions_and_edges'\n",
    "chunk_size = 10000\n",
    "workstep_idx += 1\n",
    "params_list = functions.create_range_bound_params_list(chunk_bound_query_name, workstep_query_name, chunk_size, workstep_idx, run_id)\n",
    "# params_list = params_list[:1]\n",
    "# params_list"
   ]
  },
  {
   "cell_type": "code",
   "execution_count": null,
   "metadata": {},
   "outputs": [],
   "source": [
    "# process the junctions and edges (segmentize the near_net edges)\n",
    "\n",
    "#workstep_idx += 1\n",
    "functions.multiprocess_id_range_workstep(params_list, workstep_query_name, workstep_idx, run_id)"
   ]
  },
  {
   "cell_type": "code",
   "execution_count": null,
   "metadata": {},
   "outputs": [],
   "source": [
    "# index the table segments for the next bound search run\n",
    "\n",
    "workstep_idx += 1\n",
    "functions.create_index('create_index_segments_edge_id_idx', workstep_idx, run_id)"
   ]
  },
  {
   "cell_type": "code",
   "execution_count": null,
   "metadata": {},
   "outputs": [],
   "source": [
    "# create the selector grid\n",
    "\n",
    "workstep_idx += 1\n",
    "params_list = functions.calculate_selector_grid(workstep_idx, run_id)\n",
    "params_list = params_list[:1]"
   ]
  },
  {
   "cell_type": "code",
   "execution_count": null,
   "metadata": {},
   "outputs": [],
   "source": [
    "# create the parameter list for the spatially bounded workstep\n",
    "\n",
    "spatial_bound_query_name = 'select_selector_grid'\n",
    "spatial_workstep_query_name = 'segmentize_road_network'\n",
    "workstep_idx += 1\n",
    "params_list = functions.create_spatial_workstep_params_list(spatial_bound_query_name, spatial_workstep_query_name, workstep_idx, run_id)\n",
    "# params_list = params_list[:1]\n",
    "print(len(params_list))\n",
    "params_list"
   ]
  },
  {
   "cell_type": "code",
   "execution_count": null,
   "metadata": {},
   "outputs": [],
   "source": [
    "# process the remaining road network edges (process the far_net edges)\n",
    "\n",
    "workstep_idx += 1\n",
    "functions.multiprocess_spatial_workstep(params_list, 'segmentize_road_network', workstep_idx, run_id)"
   ]
  },
  {
   "cell_type": "code",
   "execution_count": null,
   "metadata": {},
   "outputs": [],
   "source": [
    "# index the segments table\n",
    "\n",
    "workstep_idx += 1\n",
    "functions.create_index('create_index_segments_geom_idx', workstep_idx, run_id)\n",
    "workstep_idx += 1\n",
    "functions.create_index('create_index_segments_node_1_idx', workstep_idx, run_id)\n",
    "workstep_idx += 1\n",
    "functions.create_index('create_index_segments_node_2_idx', workstep_idx, run_id)"
   ]
  }
 ],
 "metadata": {
  "kernelspec": {
   "display_name": ".venv",
   "language": "python",
   "name": "python3"
  },
  "language_info": {
   "codemirror_mode": {
    "name": "ipython",
    "version": 3
   },
   "file_extension": ".py",
   "mimetype": "text/x-python",
   "name": "python",
   "nbconvert_exporter": "python",
   "pygments_lexer": "ipython3",
   "version": "3.10.12"
  }
 },
 "nbformat": 4,
 "nbformat_minor": 2
}
